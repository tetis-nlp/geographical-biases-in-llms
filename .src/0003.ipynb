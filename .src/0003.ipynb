{
 "cells": [
  {
   "attachments": {},
   "cell_type": "markdown",
   "metadata": {},
   "source": [
    "# 4. Anomaly between geographical distance and semantic distance\n",
    "\n",
    "**Authors**\n",
    "\n",
    "| Author      | Affiliation            |\n",
    "|-------------|------------------------|\n",
    "| Rémy Decoupes    | INRAE / TETIS      |\n",
    "| Mathieu Roche  | CIRAD / TETIS |\n",
    "| Maguelonne Teisseire | INRAE / TETIS            |\n",
    "\n",
    "![TETIS](https://www.umr-tetis.fr/images/logo-header-tetis.png)"
   ]
  },
  {
   "cell_type": "code",
   "execution_count": null,
   "metadata": {},
   "outputs": [],
   "source": [
    "from countryinfo import CountryInfo\n",
    "import pandas as pd\n",
    "import numpy as np\n",
    "from shapely.geometry import Polygon\n",
    "import geopandas as gpd\n",
    "\n",
    "country = CountryInfo()\n",
    "\n",
    "countries = []\n",
    "capitals = []\n",
    "regions = []\n",
    "subregions = []\n",
    "coordinates = []\n",
    "\n",
    "for c in list(country.all().keys()):\n",
    "    country_info = CountryInfo(c)\n",
    "    countries.append(c)\n",
    "    try:\n",
    "        regions.append(country_info.region())\n",
    "    except:\n",
    "        regions.append(np.NAN)\n",
    "    try:\n",
    "        subregions.append(country_info.subregion())\n",
    "    except:\n",
    "        subregions.append(np.NAN)\n",
    "    try:\n",
    "        if country_info.geo_json()[\"features\"][0][\"geometry\"][\"type\"] == \"Polygon\":\n",
    "          coordinates.append(Polygon(country_info.geo_json()[\"features\"][0][\"geometry\"][\"coordinates\"][0]))\n",
    "        else: #MultiPolygon : Take the biggest one\n",
    "          polygons = country_info.geo_json()[\"features\"][0][\"geometry\"][\"coordinates\"]\n",
    "          max_polygon = max(polygons, key=lambda x: len(x[0]))\n",
    "          coordinates.append(Polygon(max_polygon[0]))\n",
    "    except:\n",
    "        coordinates.append(np.NAN)\n",
    "    try:\n",
    "        capitals.append(country_info.capital())\n",
    "    except:\n",
    "        capitals.append(np.NAN)\n",
    "\n",
    "# Create DataFrame\n",
    "data = {\n",
    "    'Country': countries,\n",
    "    'Capital': capitals,\n",
    "    'Region': regions,\n",
    "    'Subregion': subregions,\n",
    "    'Coordinates': coordinates\n",
    "}\n",
    "\n",
    "df_countries = pd.DataFrame(data)\n",
    "df_countries = gpd.GeoDataFrame(df_countries, geometry='Coordinates')\n"
   ]
  },
  {
   "attachments": {},
   "cell_type": "markdown",
   "metadata": {},
   "source": [
    "## 4.1 SLMs and Local LLMs\n",
    "\n",
    "This indicator aims to identify which Capitals are the most far away of the others in the semantic space\n",
    "\n",
    "compute **semantic matrix**"
   ]
  },
  {
   "cell_type": "code",
   "execution_count": null,
   "metadata": {},
   "outputs": [],
   "source": [
    "from transformers import RobertaTokenizer, RobertaModel\n",
    "from transformers import AutoTokenizer, AutoModelForCausalLM, AutoModel\n",
    "import torch\n",
    "from sklearn.metrics.pairwise import cosine_similarity\n",
    "\n",
    "model_name = \"roberta-base\"\n",
    "\n",
    "tokenizer = AutoTokenizer.from_pretrained(model_name)\n",
    "model = RobertaModel.from_pretrained(model_name)\n",
    "\n",
    "def word_embedding(input_text):\n",
    "    try:\n",
    "        input_ids = tokenizer.encode(input_text, return_tensors=\"pt\")\n",
    "        with torch.no_grad():\n",
    "            last_hidden_states = model(input_ids).last_hidden_state\n",
    "        return last_hidden_states.mean(dim=1)[0] # for words chunked into subtokens (out of model vocabulary) and [CLS] & [SEP]\n",
    "    except:\n",
    "        return np.nan\n",
    "    \n",
    "def tensor_to_array(embedding):\n",
    "    try:\n",
    "        return embedding.numpy()\n",
    "    except:\n",
    "        return np.nan\n"
   ]
  },
  {
   "cell_type": "code",
   "execution_count": null,
   "metadata": {},
   "outputs": [],
   "source": [
    "df_countries[\"capital_embedding_tensor\"] = df_countries[\"Capital\"].apply(word_embedding)\n",
    "df_countries[\"capital_embedding\"] = df_countries[\"capital_embedding_tensor\"].apply(tensor_to_array)\n",
    "df_countries = df_countries.dropna(subset=[\"capital_embedding\"])\n",
    "\n",
    "embedding_array = np.stack(df_countries[\"capital_embedding\"].values)\n",
    "semantic_distance_matrix = 1 - cosine_similarity(embedding_array, embedding_array)"
   ]
  },
  {
   "cell_type": "code",
   "execution_count": null,
   "metadata": {},
   "outputs": [],
   "source": [
    "df_results_mean_semantique = pd.DataFrame(semantic_distance_matrix, columns=df_countries[\"Capital\"].values, index=df_countries[\"Capital\"].values)\n",
    "df_results_mean_semantique = df_results_mean_semantique.mean() # compute semantic distance average between every other Capitals\n",
    "df_results_mean_semantique = df_results_mean_semantique.rename(\"average_semantic_distance\")\n",
    "df_results_mean_semantique = pd.DataFrame(df_results_mean_semantique)\n",
    "\n",
    "df_country_mean_semantique = df_results_mean_semantique.join(df_countries.set_index(\"Capital\"), how=\"inner\")\n",
    "df_country_mean_semantique = gpd.GeoDataFrame(df_country_mean_semantique, geometry='Coordinates')\n",
    "df_country_mean_semantique\n"
   ]
  },
  {
   "cell_type": "code",
   "execution_count": null,
   "metadata": {},
   "outputs": [],
   "source": [
    "import matplotlib.pyplot as plt\n",
    "\n",
    "world = gpd.read_file(gpd.datasets.get_path('naturalearth_lowres'), color='lightgrey', ax=ax)\n",
    "fig, ax = plt.subplots(1, 1, figsize=(15, 10))\n",
    "world.plot(ax=ax, color='lightgrey')\n",
    "\n",
    "df_country_mean_semantique.plot(column='average_semantic_distance', ax=ax, legend=True)\n",
    "ax.set_title(f\"mean_semantique by Country for {model_name}\", fontsize=20)\n",
    "plt.show()\n",
    "\n"
   ]
  },
  {
   "attachments": {},
   "cell_type": "markdown",
   "metadata": {},
   "source": [
    "## 4.2 Remote LLMs"
   ]
  },
  {
   "cell_type": "code",
   "execution_count": null,
   "metadata": {},
   "outputs": [],
   "source": [
    "import getpass\n",
    " \n",
    "OPENAI_API_KEY = getpass.getpass(prompt=\"Your OpenAI API Key\")"
   ]
  },
  {
   "cell_type": "code",
   "execution_count": null,
   "metadata": {},
   "outputs": [],
   "source": [
    "import openai\n",
    "from langchain.embeddings import OpenAIEmbeddings\n",
    "\n",
    "tok = 'cl100k_base',\n",
    "model = OpenAIEmbeddings(openai_api_key=OPENAI_API_KEY)\n",
    "\n",
    "model_name = \"text-embedding-ada-002\"\n"
   ]
  },
  {
   "cell_type": "code",
   "execution_count": null,
   "metadata": {},
   "outputs": [],
   "source": [
    "def word_embedding(input_text):\n",
    "    try:\n",
    "        return np.array(model.embed_documents([input_text])[0])\n",
    "    except: np.nan"
   ]
  },
  {
   "cell_type": "code",
   "execution_count": null,
   "metadata": {},
   "outputs": [],
   "source": [
    "df_countries[\"capital_embedding\"] = df_countries[\"Capital\"].apply(word_embedding)\n",
    "df_countries = df_countries.dropna(subset=[\"capital_embedding\"])\n",
    "\n",
    "embedding_array = np.stack(df_countries[\"capital_embedding\"].values)\n",
    "semantic_distance_matrix = 1 - cosine_similarity(embedding_array, embedding_array)\n",
    "\n",
    "df_results_mean_semantique = pd.DataFrame(semantic_distance_matrix, columns=df_countries[\"Capital\"].values, index=df_countries[\"Capital\"].values)\n",
    "df_results_mean_semantique = df_results_mean_semantique.mean() # compute semantic distance average between every other Capitals\n",
    "df_results_mean_semantique = df_results_mean_semantique.rename(\"average_semantic_distance\")\n",
    "df_results_mean_semantique = pd.DataFrame(df_results_mean_semantique)\n",
    "\n",
    "df_country_mean_semantique = df_results_mean_semantique.join(df_countries.set_index(\"Capital\"), how=\"inner\")\n",
    "df_country_mean_semantique = gpd.GeoDataFrame(df_country_mean_semantique, geometry='Coordinates')\n",
    "df_country_mean_semantique"
   ]
  },
  {
   "cell_type": "code",
   "execution_count": null,
   "metadata": {},
   "outputs": [],
   "source": [
    "df_countries"
   ]
  },
  {
   "cell_type": "code",
   "execution_count": null,
   "metadata": {},
   "outputs": [],
   "source": [
    "import matplotlib.pyplot as plt\n",
    "\n",
    "world = gpd.read_file(gpd.datasets.get_path('naturalearth_lowres'), color='lightgrey', ax=ax)\n",
    "fig, ax = plt.subplots(1, 1, figsize=(15, 10))\n",
    "world.plot(ax=ax, color='lightgrey')\n",
    "\n",
    "df_country_mean_semantique.plot(column='average_semantic_distance', ax=ax, legend=True)\n",
    "ax.set_title(f\"mean_semantique by Country for {model_name}\", fontsize=20)\n",
    "plt.show()\n"
   ]
  }
 ],
 "metadata": {
  "kernelspec": {
   "display_name": "Python 3",
   "language": "python",
   "name": "python3"
  },
  "language_info": {
   "codemirror_mode": {
    "name": "ipython",
    "version": 3
   },
   "file_extension": ".py",
   "mimetype": "text/x-python",
   "name": "python",
   "nbconvert_exporter": "python",
   "pygments_lexer": "ipython3",
   "version": "3.10.14"
  },
  "orig_nbformat": 4
 },
 "nbformat": 4,
 "nbformat_minor": 2
}
